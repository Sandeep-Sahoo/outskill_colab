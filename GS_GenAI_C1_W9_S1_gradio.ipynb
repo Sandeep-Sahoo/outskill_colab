{
  "nbformat": 4,
  "nbformat_minor": 0,
  "metadata": {
    "colab": {
      "provenance": []
    },
    "kernelspec": {
      "name": "python3",
      "display_name": "Python 3"
    },
    "language_info": {
      "name": "python"
    }
  },
  "cells": [
    {
      "cell_type": "markdown",
      "source": [
        "# Introduction to Gradio"
      ],
      "metadata": {
        "id": "L4kW0SJX-1Mr"
      }
    },
    {
      "cell_type": "markdown",
      "source": [
        "## Import the Libraries"
      ],
      "metadata": {
        "id": "ApFbRaHIIAG9"
      }
    },
    {
      "cell_type": "code",
      "source": [
        "import gradio as gr\n",
        "import pandas as pd\n",
        "\n",
        "import matplotlib.pyplot as plt\n",
        "import numpy as np\n",
        "\n",
        "import time"
      ],
      "metadata": {
        "id": "iZRgczDPCmNR"
      },
      "execution_count": null,
      "outputs": []
    },
    {
      "cell_type": "markdown",
      "source": [
        "---"
      ],
      "metadata": {
        "id": "cHWZvFMrICHN"
      }
    },
    {
      "cell_type": "markdown",
      "source": [
        "## Hello World App"
      ],
      "metadata": {
        "id": "YfYBtPOH-4EI"
      }
    },
    {
      "cell_type": "code",
      "execution_count": null,
      "metadata": {
        "colab": {
          "base_uri": "https://localhost:8080/",
          "height": 611
        },
        "id": "p2BgdZyM-u8d",
        "outputId": "4eea98cb-268e-4e34-eb97-70e8a72b1428"
      },
      "outputs": [
        {
          "output_type": "stream",
          "name": "stdout",
          "text": [
            "Colab notebook detected. To show errors in colab notebook, set debug=True in launch()\n",
            "* Running on public URL: https://0e9b629a9b3b6b8ff6.gradio.live\n",
            "\n",
            "This share link expires in 1 week. For free permanent hosting and GPU upgrades, run `gradio deploy` from the terminal in the working directory to deploy to Hugging Face Spaces (https://huggingface.co/spaces)\n"
          ]
        },
        {
          "output_type": "display_data",
          "data": {
            "text/plain": [
              "<IPython.core.display.HTML object>"
            ],
            "text/html": [
              "<div><iframe src=\"https://0e9b629a9b3b6b8ff6.gradio.live\" width=\"100%\" height=\"500\" allow=\"autoplay; camera; microphone; clipboard-read; clipboard-write;\" frameborder=\"0\" allowfullscreen></iframe></div>"
            ]
          },
          "metadata": {}
        },
        {
          "output_type": "execute_result",
          "data": {
            "text/plain": []
          },
          "metadata": {},
          "execution_count": 2
        }
      ],
      "source": [
        "def greet(name):\n",
        "    return f\"Hello, {name}!\"\n",
        "\n",
        "demo = gr.Interface(fn=greet, inputs=\"text\", outputs=\"text\")\n",
        "demo.launch(share=True)"
      ]
    },
    {
      "cell_type": "markdown",
      "source": [
        "---"
      ],
      "metadata": {
        "id": "1DwpMNw7IDSz"
      }
    },
    {
      "cell_type": "markdown",
      "source": [
        "## Interface vs Blocks"
      ],
      "metadata": {
        "id": "o9Org74OCcFD"
      }
    },
    {
      "cell_type": "markdown",
      "source": [
        "### Interface"
      ],
      "metadata": {
        "id": "9bdfoE_CC6ii"
      }
    },
    {
      "cell_type": "code",
      "source": [
        "def square(x):\n",
        "    return x ** 2\n",
        "\n",
        "demo = gr.Interface(fn=square, inputs=\"number\", outputs=\"number\")\n",
        "demo.launch(share=True)"
      ],
      "metadata": {
        "colab": {
          "base_uri": "https://localhost:8080/",
          "height": 611
        },
        "id": "cQH6nIax-7YG",
        "outputId": "5ab3e550-a829-4a45-ca8e-f6f868d6fb65"
      },
      "execution_count": null,
      "outputs": [
        {
          "output_type": "stream",
          "name": "stdout",
          "text": [
            "Colab notebook detected. To show errors in colab notebook, set debug=True in launch()\n",
            "* Running on public URL: https://eb79312ebc44f0d039.gradio.live\n",
            "\n",
            "This share link expires in 1 week. For free permanent hosting and GPU upgrades, run `gradio deploy` from the terminal in the working directory to deploy to Hugging Face Spaces (https://huggingface.co/spaces)\n"
          ]
        },
        {
          "output_type": "display_data",
          "data": {
            "text/plain": [
              "<IPython.core.display.HTML object>"
            ],
            "text/html": [
              "<div><iframe src=\"https://eb79312ebc44f0d039.gradio.live\" width=\"100%\" height=\"500\" allow=\"autoplay; camera; microphone; clipboard-read; clipboard-write;\" frameborder=\"0\" allowfullscreen></iframe></div>"
            ]
          },
          "metadata": {}
        },
        {
          "output_type": "execute_result",
          "data": {
            "text/plain": []
          },
          "metadata": {},
          "execution_count": 3
        }
      ]
    },
    {
      "cell_type": "markdown",
      "source": [
        "### Blocks"
      ],
      "metadata": {
        "id": "8Ay32zWuC82T"
      }
    },
    {
      "cell_type": "code",
      "source": [
        "# Blocks\n",
        "\n",
        "with gr.Blocks() as demo:\n",
        "    input_num = gr.Number(label=\"Input\")\n",
        "    output_num = gr.Number(label=\"Squared Output\")\n",
        "    button = gr.Button(\"Compute\")\n",
        "\n",
        "    button.click(lambda x: x**2, inputs=input_num, outputs=output_num)\n",
        "\n",
        "demo.launch(share=True)"
      ],
      "metadata": {
        "colab": {
          "base_uri": "https://localhost:8080/",
          "height": 611
        },
        "id": "D-1gDdY4Ch5J",
        "outputId": "89c58427-ca8d-4163-a061-3f56928601e7"
      },
      "execution_count": null,
      "outputs": [
        {
          "output_type": "stream",
          "name": "stdout",
          "text": [
            "Colab notebook detected. To show errors in colab notebook, set debug=True in launch()\n",
            "* Running on public URL: https://e8868a4557bee57d0d.gradio.live\n",
            "\n",
            "This share link expires in 1 week. For free permanent hosting and GPU upgrades, run `gradio deploy` from the terminal in the working directory to deploy to Hugging Face Spaces (https://huggingface.co/spaces)\n"
          ]
        },
        {
          "output_type": "display_data",
          "data": {
            "text/plain": [
              "<IPython.core.display.HTML object>"
            ],
            "text/html": [
              "<div><iframe src=\"https://e8868a4557bee57d0d.gradio.live\" width=\"100%\" height=\"500\" allow=\"autoplay; camera; microphone; clipboard-read; clipboard-write;\" frameborder=\"0\" allowfullscreen></iframe></div>"
            ]
          },
          "metadata": {}
        },
        {
          "output_type": "execute_result",
          "data": {
            "text/plain": []
          },
          "metadata": {},
          "execution_count": 4
        }
      ]
    },
    {
      "cell_type": "markdown",
      "source": [
        "---"
      ],
      "metadata": {
        "id": "IJHza-IdIEWb"
      }
    },
    {
      "cell_type": "markdown",
      "source": [
        "## Gradio Input and Output Components"
      ],
      "metadata": {
        "id": "lgrNjYmrC2k8"
      }
    },
    {
      "cell_type": "markdown",
      "source": [
        "### Input"
      ],
      "metadata": {
        "id": "GHoz9SasC_QQ"
      }
    },
    {
      "cell_type": "code",
      "source": [
        "def show_inputs(text, image, audio):\n",
        "    return f\"You said: {text}\", image, audio\n",
        "\n",
        "demo = gr.Interface(\n",
        "    fn=show_inputs,\n",
        "    inputs=[\n",
        "        gr.Textbox(label=\"Your Text\"),\n",
        "        gr.Image(label=\"Upload Image\"),\n",
        "        gr.Audio(label=\"Upload Audio\")\n",
        "    ],\n",
        "    outputs=[\"text\", \"image\", \"audio\"]\n",
        ")\n",
        "\n",
        "demo.launch(share=True)"
      ],
      "metadata": {
        "colab": {
          "base_uri": "https://localhost:8080/",
          "height": 611
        },
        "id": "c3Lf28bKCzCp",
        "outputId": "c4abad35-86c1-4fa4-bcca-7e55a6e7c273"
      },
      "execution_count": null,
      "outputs": [
        {
          "output_type": "stream",
          "name": "stdout",
          "text": [
            "Colab notebook detected. To show errors in colab notebook, set debug=True in launch()\n",
            "* Running on public URL: https://0ebc87d892fbba9771.gradio.live\n",
            "\n",
            "This share link expires in 1 week. For free permanent hosting and GPU upgrades, run `gradio deploy` from the terminal in the working directory to deploy to Hugging Face Spaces (https://huggingface.co/spaces)\n"
          ]
        },
        {
          "output_type": "display_data",
          "data": {
            "text/plain": [
              "<IPython.core.display.HTML object>"
            ],
            "text/html": [
              "<div><iframe src=\"https://0ebc87d892fbba9771.gradio.live\" width=\"100%\" height=\"500\" allow=\"autoplay; camera; microphone; clipboard-read; clipboard-write;\" frameborder=\"0\" allowfullscreen></iframe></div>"
            ]
          },
          "metadata": {}
        },
        {
          "output_type": "execute_result",
          "data": {
            "text/plain": []
          },
          "metadata": {},
          "execution_count": 5
        }
      ]
    },
    {
      "cell_type": "markdown",
      "source": [
        "### Output"
      ],
      "metadata": {
        "id": "KiVYjx3zDATk"
      }
    },
    {
      "cell_type": "code",
      "source": [
        "def generate_outputs():\n",
        "    df = pd.DataFrame({\"A\": [1, 2], \"B\": [3, 4]})\n",
        "    markdown_text = \"**Bold Text Example**\"\n",
        "    return df, markdown_text\n",
        "\n",
        "demo = gr.Interface(\n",
        "    fn=generate_outputs,\n",
        "    inputs=None,\n",
        "    outputs=[gr.DataFrame(), gr.Markdown()]\n",
        ")\n",
        "\n",
        "demo.launch()"
      ],
      "metadata": {
        "colab": {
          "base_uri": "https://localhost:8080/",
          "height": 646
        },
        "id": "uYtgbEazDBRp",
        "outputId": "5ec3becb-cc8e-4116-ef4d-6d0830f9d8ff"
      },
      "execution_count": null,
      "outputs": [
        {
          "output_type": "stream",
          "name": "stdout",
          "text": [
            "It looks like you are running Gradio on a hosted a Jupyter notebook. For the Gradio app to work, sharing must be enabled. Automatically setting `share=True` (you can turn this off by setting `share=False` in `launch()` explicitly).\n",
            "\n",
            "Colab notebook detected. To show errors in colab notebook, set debug=True in launch()\n",
            "* Running on public URL: https://3df912df03cc24274d.gradio.live\n",
            "\n",
            "This share link expires in 1 week. For free permanent hosting and GPU upgrades, run `gradio deploy` from the terminal in the working directory to deploy to Hugging Face Spaces (https://huggingface.co/spaces)\n"
          ]
        },
        {
          "output_type": "display_data",
          "data": {
            "text/plain": [
              "<IPython.core.display.HTML object>"
            ],
            "text/html": [
              "<div><iframe src=\"https://3df912df03cc24274d.gradio.live\" width=\"100%\" height=\"500\" allow=\"autoplay; camera; microphone; clipboard-read; clipboard-write;\" frameborder=\"0\" allowfullscreen></iframe></div>"
            ]
          },
          "metadata": {}
        },
        {
          "output_type": "execute_result",
          "data": {
            "text/plain": []
          },
          "metadata": {},
          "execution_count": 6
        }
      ]
    },
    {
      "cell_type": "code",
      "source": [
        "def compute_and_plot(x):\n",
        "    squared = x ** 2\n",
        "\n",
        "    fig, ax = plt.subplots()\n",
        "    nums = np.arange(0, x+1)\n",
        "    ax.plot(nums, nums**2, marker='o')\n",
        "    ax.set_title(\"Square Numbers\")\n",
        "    ax.set_xlabel(\"Number\")\n",
        "    ax.set_ylabel(\"Squared Value\")\n",
        "\n",
        "    return squared, fig\n",
        "\n",
        "with gr.Blocks() as demo:\n",
        "    input_num = gr.Number(label=\"Input\")\n",
        "    output_num = gr.Number(label=\"Squared Output\")\n",
        "    plot_output = gr.Plot(label=\"Visualization\")\n",
        "    button = gr.Button(\"Compute\")\n",
        "\n",
        "    button.click(compute_and_plot, inputs=input_num, outputs=[output_num, plot_output])\n",
        "\n",
        "demo.launch(share=True)\n"
      ],
      "metadata": {
        "colab": {
          "base_uri": "https://localhost:8080/",
          "height": 611
        },
        "id": "y0bRMeLHDBgv",
        "outputId": "0cc79998-45aa-4f92-a374-d47c50976b8b"
      },
      "execution_count": null,
      "outputs": [
        {
          "output_type": "stream",
          "name": "stdout",
          "text": [
            "Colab notebook detected. To show errors in colab notebook, set debug=True in launch()\n",
            "* Running on public URL: https://28c820ac1b2974d3b6.gradio.live\n",
            "\n",
            "This share link expires in 1 week. For free permanent hosting and GPU upgrades, run `gradio deploy` from the terminal in the working directory to deploy to Hugging Face Spaces (https://huggingface.co/spaces)\n"
          ]
        },
        {
          "output_type": "display_data",
          "data": {
            "text/plain": [
              "<IPython.core.display.HTML object>"
            ],
            "text/html": [
              "<div><iframe src=\"https://28c820ac1b2974d3b6.gradio.live\" width=\"100%\" height=\"500\" allow=\"autoplay; camera; microphone; clipboard-read; clipboard-write;\" frameborder=\"0\" allowfullscreen></iframe></div>"
            ]
          },
          "metadata": {}
        },
        {
          "output_type": "execute_result",
          "data": {
            "text/plain": []
          },
          "metadata": {},
          "execution_count": 7
        }
      ]
    },
    {
      "cell_type": "markdown",
      "source": [
        "---"
      ],
      "metadata": {
        "id": "eAujRUirIHAl"
      }
    },
    {
      "cell_type": "markdown",
      "source": [
        "## Events Handling"
      ],
      "metadata": {
        "id": "fMs9xMiVHSkF"
      }
    },
    {
      "cell_type": "code",
      "source": [
        "def on_click(name):\n",
        "    return f\"Clicked! Hello, {name}\"\n",
        "\n",
        "def on_change(name):\n",
        "    return f\"Changed to: {name}\"\n",
        "\n",
        "with gr.Blocks() as demo:\n",
        "    gr.Markdown(\"### Gradio Event Handling Demo\")\n",
        "\n",
        "    name_input = gr.Textbox(label=\"Enter your name\", interactive=True)\n",
        "    click_output = gr.Textbox(label=\"Click Output\")\n",
        "    change_output = gr.Textbox(label=\"Change Output\")\n",
        "\n",
        "    greet_btn = gr.Button(\"Click Me\")\n",
        "\n",
        "    # Events\n",
        "    greet_btn.click(on_click, inputs=name_input, outputs=click_output)\n",
        "    name_input.change(on_change, inputs=name_input, outputs=change_output)\n",
        "\n",
        "demo.launch(share=True)\n"
      ],
      "metadata": {
        "colab": {
          "base_uri": "https://localhost:8080/",
          "height": 611
        },
        "id": "mFilcPgOFjiN",
        "outputId": "57fb45f6-16f3-4586-b2ad-daf21494f7e8"
      },
      "execution_count": null,
      "outputs": [
        {
          "output_type": "stream",
          "name": "stdout",
          "text": [
            "Colab notebook detected. To show errors in colab notebook, set debug=True in launch()\n",
            "* Running on public URL: https://b95dbe198c8e9ae363.gradio.live\n",
            "\n",
            "This share link expires in 1 week. For free permanent hosting and GPU upgrades, run `gradio deploy` from the terminal in the working directory to deploy to Hugging Face Spaces (https://huggingface.co/spaces)\n"
          ]
        },
        {
          "output_type": "display_data",
          "data": {
            "text/plain": [
              "<IPython.core.display.HTML object>"
            ],
            "text/html": [
              "<div><iframe src=\"https://b95dbe198c8e9ae363.gradio.live\" width=\"100%\" height=\"500\" allow=\"autoplay; camera; microphone; clipboard-read; clipboard-write;\" frameborder=\"0\" allowfullscreen></iframe></div>"
            ]
          },
          "metadata": {}
        },
        {
          "output_type": "execute_result",
          "data": {
            "text/plain": []
          },
          "metadata": {},
          "execution_count": 8
        }
      ]
    },
    {
      "cell_type": "markdown",
      "source": [
        "---"
      ],
      "metadata": {
        "id": "Vt9elARaII2Q"
      }
    },
    {
      "cell_type": "markdown",
      "source": [
        "## Managing State and Data Flow"
      ],
      "metadata": {
        "id": "rpw3zHk_IUl5"
      }
    },
    {
      "cell_type": "code",
      "source": [
        "def increment(counter):\n",
        "    counter += 1\n",
        "    show_message = counter >= 5\n",
        "    message = \"🎉 You've clicked 5 times!\" if show_message else \"\"\n",
        "    return (\n",
        "        counter,\n",
        "        f\"Counter: {counter}\",\n",
        "        gr.update(value=message, visible=show_message),\n",
        "        gr.update(visible=show_message, value=message)\n",
        "    )\n",
        "\n",
        "with gr.Blocks() as demo:\n",
        "    gr.Markdown(\"### State, Session & Conditional UI Demo\")\n",
        "\n",
        "    counter_state = gr.State(0)\n",
        "\n",
        "    counter_text = gr.Textbox(label=\"Current Count\", interactive=False)\n",
        "    message_box = gr.Textbox(label=\"Milestone Message\", interactive=False, visible=False)\n",
        "    milestone_text = gr.Markdown(visible=False)\n",
        "    click_btn = gr.Button(\"Click Me\")\n",
        "\n",
        "    click_btn.click(\n",
        "        increment,\n",
        "        inputs=counter_state,\n",
        "        outputs=[counter_state, counter_text, message_box, milestone_text]\n",
        "    )\n",
        "\n",
        "demo.launch(share=True)"
      ],
      "metadata": {
        "colab": {
          "base_uri": "https://localhost:8080/",
          "height": 611
        },
        "id": "cKVQs3C3HZBM",
        "outputId": "3a8e85bc-10c9-4475-d36a-fa2e0a5614f1"
      },
      "execution_count": null,
      "outputs": [
        {
          "output_type": "stream",
          "name": "stdout",
          "text": [
            "Colab notebook detected. To show errors in colab notebook, set debug=True in launch()\n",
            "* Running on public URL: https://6f1c87e252869f6354.gradio.live\n",
            "\n",
            "This share link expires in 1 week. For free permanent hosting and GPU upgrades, run `gradio deploy` from the terminal in the working directory to deploy to Hugging Face Spaces (https://huggingface.co/spaces)\n"
          ]
        },
        {
          "output_type": "display_data",
          "data": {
            "text/plain": [
              "<IPython.core.display.HTML object>"
            ],
            "text/html": [
              "<div><iframe src=\"https://6f1c87e252869f6354.gradio.live\" width=\"100%\" height=\"500\" allow=\"autoplay; camera; microphone; clipboard-read; clipboard-write;\" frameborder=\"0\" allowfullscreen></iframe></div>"
            ]
          },
          "metadata": {}
        },
        {
          "output_type": "execute_result",
          "data": {
            "text/plain": []
          },
          "metadata": {},
          "execution_count": 9
        }
      ]
    },
    {
      "cell_type": "markdown",
      "source": [
        "---"
      ],
      "metadata": {
        "id": "-oNdoDidJEN6"
      }
    },
    {
      "cell_type": "markdown",
      "source": [
        "## Blocks"
      ],
      "metadata": {
        "id": "SpHP18pYK3pB"
      }
    },
    {
      "cell_type": "code",
      "source": [
        "with gr.Blocks() as demo:\n",
        "    with gr.Row():\n",
        "        name = gr.Textbox(label=\"Name\")\n",
        "        age = gr.Number(label=\"Age\")\n",
        "    greet_btn = gr.Button(\"Greet\")\n",
        "    output = gr.Textbox()\n",
        "\n",
        "    greet_btn.click(lambda n, a: f\"Hello {n}, you're {a}!\", [name, age], output)\n",
        "\n",
        "demo.launch(share=True)"
      ],
      "metadata": {
        "colab": {
          "base_uri": "https://localhost:8080/",
          "height": 611
        },
        "id": "wTW6sX2RIZsE",
        "outputId": "fa87e1e9-a6f0-4da6-9077-51438aa71166"
      },
      "execution_count": null,
      "outputs": [
        {
          "output_type": "stream",
          "name": "stdout",
          "text": [
            "Colab notebook detected. To show errors in colab notebook, set debug=True in launch()\n",
            "* Running on public URL: https://ebadda6a9034c4aafb.gradio.live\n",
            "\n",
            "This share link expires in 1 week. For free permanent hosting and GPU upgrades, run `gradio deploy` from the terminal in the working directory to deploy to Hugging Face Spaces (https://huggingface.co/spaces)\n"
          ]
        },
        {
          "output_type": "display_data",
          "data": {
            "text/plain": [
              "<IPython.core.display.HTML object>"
            ],
            "text/html": [
              "<div><iframe src=\"https://ebadda6a9034c4aafb.gradio.live\" width=\"100%\" height=\"500\" allow=\"autoplay; camera; microphone; clipboard-read; clipboard-write;\" frameborder=\"0\" allowfullscreen></iframe></div>"
            ]
          },
          "metadata": {}
        },
        {
          "output_type": "execute_result",
          "data": {
            "text/plain": []
          },
          "metadata": {},
          "execution_count": 10
        }
      ]
    },
    {
      "cell_type": "markdown",
      "source": [
        "---"
      ],
      "metadata": {
        "id": "xvSHvSfwLK5X"
      }
    },
    {
      "cell_type": "code",
      "source": [
        "def stream_response(text):\n",
        "    for word in text.split():\n",
        "        yield word + \" \"\n",
        "        time.sleep(0.3)\n",
        "\n",
        "demo = gr.Interface(\n",
        "    fn=stream_response,\n",
        "    inputs=gr.Textbox(label=\"Enter sentence\"),\n",
        "    outputs=gr.Textbox(label=\"Streaming Output\"),\n",
        "    live=True,\n",
        ")\n",
        "\n",
        "demo.launch(share=True)"
      ],
      "metadata": {
        "colab": {
          "base_uri": "https://localhost:8080/",
          "height": 611
        },
        "id": "M_Mxzrj6LozJ",
        "outputId": "280fc2d7-00b7-4f5b-a950-a66323e54e24"
      },
      "execution_count": null,
      "outputs": [
        {
          "output_type": "stream",
          "name": "stdout",
          "text": [
            "Colab notebook detected. To show errors in colab notebook, set debug=True in launch()\n",
            "* Running on public URL: https://c32b81a1ae6f9a4347.gradio.live\n",
            "\n",
            "This share link expires in 1 week. For free permanent hosting and GPU upgrades, run `gradio deploy` from the terminal in the working directory to deploy to Hugging Face Spaces (https://huggingface.co/spaces)\n"
          ]
        },
        {
          "output_type": "display_data",
          "data": {
            "text/plain": [
              "<IPython.core.display.HTML object>"
            ],
            "text/html": [
              "<div><iframe src=\"https://c32b81a1ae6f9a4347.gradio.live\" width=\"100%\" height=\"500\" allow=\"autoplay; camera; microphone; clipboard-read; clipboard-write;\" frameborder=\"0\" allowfullscreen></iframe></div>"
            ]
          },
          "metadata": {}
        },
        {
          "output_type": "execute_result",
          "data": {
            "text/plain": []
          },
          "metadata": {},
          "execution_count": 11
        }
      ]
    }
  ]
}