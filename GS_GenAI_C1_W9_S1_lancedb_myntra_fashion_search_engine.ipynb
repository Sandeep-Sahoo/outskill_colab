{
  "cells": [
    {
      "cell_type": "markdown",
      "metadata": {
        "id": "xgydN0D4TtBF"
      },
      "source": [
        "# LanceDB Myntra Fashion Search Engine"
      ]
    },
    {
      "cell_type": "markdown",
      "source": [
        "## Download Data\n",
        "- For this project you need to download the [Myntra Fashion Product Dataset]( https://www.kaggle.com/datasets/hiteshsuthar101/myntra-fashion-product-dataset) from Kaggle and store it here in the `input` folder.\n",
        "- Note that while creating the table you shall pass the path of the folder in which the images are present, example `/content/input/Images/Images`"
      ],
      "metadata": {
        "id": "N9HK7lLmsufR"
      }
    },
    {
      "cell_type": "markdown",
      "metadata": {
        "id": "BUElYQzKT41t"
      },
      "source": [
        "## Preliminaries"
      ]
    },
    {
      "cell_type": "code",
      "execution_count": null,
      "metadata": {
        "id": "PQj_jlbRUteu"
      },
      "outputs": [],
      "source": [
        "%%capture\n",
        "\n",
        "!pip install lancedb\n",
        "!pip install open_clip_torch"
      ]
    },
    {
      "cell_type": "code",
      "execution_count": null,
      "metadata": {
        "id": "uddRx_vxT6_t"
      },
      "outputs": [],
      "source": [
        "import os\n",
        "import pandas as pd\n",
        "from PIL import Image\n",
        "from pathlib import Path\n",
        "from random import sample\n",
        "\n",
        "import lancedb\n",
        "from lancedb.pydantic import LanceModel, Vector\n",
        "from lancedb.embeddings import EmbeddingFunctionRegistry\n",
        "\n",
        "from typing import Any"
      ]
    },
    {
      "cell_type": "markdown",
      "metadata": {
        "id": "JZafdZy-TiJa"
      },
      "source": [
        "## Embedding Model"
      ]
    },
    {
      "cell_type": "code",
      "execution_count": null,
      "metadata": {
        "id": "14TJFhtxTczp"
      },
      "outputs": [],
      "source": [
        "def register_model(model_name: str) -> Any:\n",
        "    \"\"\"\n",
        "    Register a model with the given name using LanceDB's EmbeddingFunctionRegistry.\n",
        "\n",
        "    Args:\n",
        "        model_name (str): The name of the model to register.\n",
        "\n",
        "    Returns:\n",
        "        model: The registered model instance.\n",
        "\n",
        "    Usage:\n",
        "    >>> model = register_model(\"open-clip\")\n",
        "    \"\"\"\n",
        "    registry = EmbeddingFunctionRegistry.get_instance()\n",
        "    model = registry.get(model_name).create()\n",
        "    return model"
      ]
    },
    {
      "cell_type": "markdown",
      "metadata": {
        "id": "l2bJC-3CTd36"
      },
      "source": [
        "## Schema"
      ]
    },
    {
      "cell_type": "code",
      "execution_count": null,
      "metadata": {
        "id": "5upIYuE5TJ13",
        "colab": {
          "base_uri": "https://localhost:8080/",
          "height": 173,
          "referenced_widgets": [
            "7e2588f42dde4bd1a9b60fb1d69d2418",
            "af30a8440b87493888b8109c99e03ec6",
            "506dfa59c25a4b3e88e024b9e61692a4",
            "3ec150db74c347d2bc9bead0680a5563",
            "1573018ec50b46e686ebdf85627600a5",
            "367376da6a6d4ca7a59a357bb6392a6b",
            "70f91f424e7f428e823cb5c4064ecad5",
            "0accce94550240cf8cc675971ee5b083",
            "498a831ad19d4f4d9710af4055b34dab",
            "3194dbb074b0438e866e91d66a965062",
            "e35abb6a73cd479bbf4aa97944a12efa"
          ]
        },
        "outputId": "9111bc70-ae8c-4761-fd9e-2f231966d464"
      },
      "outputs": [
        {
          "output_type": "stream",
          "name": "stderr",
          "text": [
            "/usr/local/lib/python3.11/dist-packages/huggingface_hub/utils/_auth.py:94: UserWarning: \n",
            "The secret `HF_TOKEN` does not exist in your Colab secrets.\n",
            "To authenticate with the Hugging Face Hub, create a token in your settings tab (https://huggingface.co/settings/tokens), set it as secret in your Google Colab and restart your session.\n",
            "You will be able to reuse this secret in all of your notebooks.\n",
            "Please note that authentication is recommended but still optional to access public models or datasets.\n",
            "  warnings.warn(\n"
          ]
        },
        {
          "output_type": "display_data",
          "data": {
            "text/plain": [
              "open_clip_model.safetensors:   0%|          | 0.00/605M [00:00<?, ?B/s]"
            ],
            "application/vnd.jupyter.widget-view+json": {
              "version_major": 2,
              "version_minor": 0,
              "model_id": "7e2588f42dde4bd1a9b60fb1d69d2418"
            }
          },
          "metadata": {}
        }
      ],
      "source": [
        "# Register the OpenAI CLIP model\n",
        "clip = register_model(\"open-clip\")\n",
        "\n",
        "\n",
        "class Myntra(LanceModel):\n",
        "    \"\"\"\n",
        "    Represents a Myntra Schema.\n",
        "\n",
        "    Attributes:\n",
        "        vector (Vector): The vector representation of the item.\n",
        "        image_uri (str): The URI of the item's image.\n",
        "    \"\"\"\n",
        "\n",
        "    vector: Vector(clip.ndims()) = clip.VectorField()\n",
        "    image_uri: str = clip.SourceField()\n",
        "\n",
        "    @property\n",
        "    def image(self):\n",
        "        return Image.open(self.image_uri)\n",
        "\n",
        "\n",
        "# Function to map schema name to schema class\n",
        "def get_schema_by_name(schema_name: str) -> Any:\n",
        "    \"\"\"\n",
        "    Retrieves the schema object based on the given schema name.\n",
        "\n",
        "    Args:\n",
        "        schema_name (str): The name of the schema.\n",
        "\n",
        "    Returns:\n",
        "        object: The schema object corresponding to the given schema name, or None if not found.\n",
        "\n",
        "    Usage:\n",
        "    >>> schema = get_schema_by_name(\"Myntra\")\n",
        "    \"\"\"\n",
        "    schema_map = {\n",
        "        \"Myntra\": Myntra,\n",
        "    }\n",
        "    return schema_map.get(schema_name)"
      ]
    },
    {
      "cell_type": "markdown",
      "metadata": {
        "id": "dy3LohCmTlW3"
      },
      "source": [
        "## Creating a Table"
      ]
    },
    {
      "cell_type": "code",
      "execution_count": null,
      "metadata": {
        "id": "uDhRy1uTTnY-"
      },
      "outputs": [],
      "source": [
        "def create_table(\n",
        "    database: str,\n",
        "    table_name: str,\n",
        "    data_path: str,\n",
        "    mode: str = \"create\",  # \"create\", \"overwrite\"\n",
        "    schema: Any = Myntra,\n",
        "    sample_size: int = 100,\n",
        ") -> None:\n",
        "    \"\"\"\n",
        "    Create a table in the specified vector database and add data to it.\n",
        "\n",
        "    Args:\n",
        "        database (str): The name of the database to connect to.\n",
        "        table_name (str): The name of the table to create.\n",
        "        data_path (str): The path to the data directory.\n",
        "        mode (str): The mode for creating the table. Defaults to \"create\".\n",
        "        schema (Schema, optional): The schema to use for the table. Defaults to Myntra.\n",
        "        sample_size (int, optional): The number of images to sample from the data. Defaults to 100.\n",
        "\n",
        "    Returns:\n",
        "        None\n",
        "\n",
        "    Usage:\n",
        "    >>> create_table(database=\"lancedb_myntra\", table_name=\"fashion\", data_path=\"input\")\n",
        "    \"\"\"\n",
        "\n",
        "    # Connect to the lancedb database\n",
        "    db = lancedb.connect(database)\n",
        "\n",
        "    # Check if the table already exists in the database\n",
        "    if table_name in db and mode != \"overwrite\":\n",
        "        print(f\"Table {table_name} already exists in the database\")\n",
        "        table = db[table_name]\n",
        "\n",
        "    # if it does not exist then create a new table\n",
        "    else:\n",
        "\n",
        "        print(f\"Creating table {table_name} in the database\")\n",
        "\n",
        "        if table_name in db:\n",
        "            db.drop_table(table_name)\n",
        "\n",
        "        # Create the table with the given schema\n",
        "        table = db.create_table(table_name, schema=schema, mode=mode)\n",
        "\n",
        "        # Define the Path of the images and obtain the Image uri\n",
        "        p = Path(data_path).expanduser()\n",
        "        uris = [str(f) for f in p.glob(\"*.jpg\")]\n",
        "        print(f\"Found {len(uris)} images in {p}\")\n",
        "\n",
        "        # Sample sample_size images from the data\n",
        "        # Increase this value for more accurate results but\n",
        "        # it will take more time to process embeddings\n",
        "        uris = sample(uris, sample_size)\n",
        "\n",
        "        # Add the data to the table\n",
        "        print(f\"Adding {len(uris)} images to the table\")\n",
        "        table.add(pd.DataFrame({\"image_uri\": uris}))\n",
        "        print(f\"Added {len(uris)} images to the table\")"
      ]
    },
    {
      "cell_type": "code",
      "execution_count": null,
      "metadata": {
        "colab": {
          "base_uri": "https://localhost:8080/"
        },
        "id": "FP5uK1rcP38K",
        "outputId": "239bafe6-cd6b-4088-f439-7431fef642ce"
      },
      "outputs": [
        {
          "output_type": "stream",
          "name": "stdout",
          "text": [
            "Creating table fashion in the database\n",
            "Found 6 images in /content/input/Images/Images\n",
            "Adding 5 images to the table\n"
          ]
        },
        {
          "output_type": "stream",
          "name": "stderr",
          "text": [
            "100%|██████████| 5/5 [00:01<00:00,  3.77it/s]"
          ]
        },
        {
          "output_type": "stream",
          "name": "stdout",
          "text": [
            "Added 5 images to the table\n"
          ]
        },
        {
          "output_type": "stream",
          "name": "stderr",
          "text": [
            "\n"
          ]
        }
      ],
      "source": [
        "# The data_path should refer to the folder in which the images are located\n",
        "\n",
        "create_table(\n",
        "    database=\"lancedb_myntra\",\n",
        "    table_name=\"fashion\",\n",
        "    data_path=\"/content/input/Images/Images\",\n",
        "    mode=\"overwrite\",\n",
        ")"
      ]
    },
    {
      "cell_type": "markdown",
      "metadata": {
        "id": "3vAWovRJTqhv"
      },
      "source": [
        "## Vector Search"
      ]
    },
    {
      "cell_type": "code",
      "execution_count": null,
      "metadata": {
        "id": "unDrIuzKTrpJ"
      },
      "outputs": [],
      "source": [
        "def run_vector_search(\n",
        "    database: str,\n",
        "    table_name: str,\n",
        "    schema: Any,\n",
        "    search_query: Any,\n",
        "    limit: int = 6,\n",
        "    output_folder: str = \"output\",\n",
        ") -> None:\n",
        "    \"\"\"\n",
        "    This function performs a vector search on the specified database and table using the provided search query.\n",
        "    The search can be performed on either text or image data. The function retrieves the top 'limit' number of results\n",
        "    and saves the corresponding images in the 'output_folder' directory. The function assumes if the search query ends\n",
        "    with '.jpg' or '.png', it is an image search, otherwise it is a text search.\n",
        "    Args:\n",
        "        database (str): The path to the database.\n",
        "        table_name (str): The name of the table.\n",
        "        schema (Schema): The schema to use for converting search results to Pydantic models.\n",
        "        search_query (Any): The search query, can be text or image.\n",
        "        limit (int, optional): The maximum number of results to return. Defaults to 6.\n",
        "        output_folder (str, optional): The folder to save the output images. Defaults to \"output\".\n",
        "\n",
        "    Returns:\n",
        "        None\n",
        "\n",
        "    Usage:\n",
        "    >>> run_vector_search(database=\"lancedb_myntra\", table_name=\"fashion\", schema=Myntra, search_query=\"Black Kurta\")\n",
        "\n",
        "    \"\"\"\n",
        "\n",
        "    # Create the output folder if it does not exist\n",
        "    if os.path.exists(output_folder):\n",
        "        for file in os.listdir(output_folder):\n",
        "            os.remove(os.path.join(output_folder, file))\n",
        "    else:\n",
        "        os.makedirs(output_folder)\n",
        "\n",
        "    # Connect to the lancedb database\n",
        "    db = lancedb.connect(database)\n",
        "\n",
        "    # Open the table\n",
        "    table = db.open_table(table_name)\n",
        "\n",
        "    # Check if the search query is an image or text\n",
        "    try:\n",
        "        if search_query.endswith(\".jpg\") or search_query.endswith(\".png\"):\n",
        "            search_query = Image.open(search_query)\n",
        "        else:\n",
        "            search_query = search_query\n",
        "    except AttributeError as e:\n",
        "        if str(e) == \"'JpegImageFile' object has no attribute 'endswith'\":\n",
        "            print(\n",
        "                \"Running via Streamlit, search query is already an array so skipping opening image using Pillow\"\n",
        "            )\n",
        "        else:\n",
        "            raise\n",
        "\n",
        "    # Perform the vector search and retrieve the results\n",
        "    rs = table.search(search_query).limit(limit).to_pydantic(schema)\n",
        "\n",
        "    # Save the images to the output folder\n",
        "    for i in range(limit):\n",
        "        image_path = os.path.join(output_folder, f\"image_{i}.jpg\")\n",
        "        rs[i].image.save(image_path, \"JPEG\")"
      ]
    },
    {
      "cell_type": "markdown",
      "metadata": {
        "id": "yPCppZacZ1us"
      },
      "source": [
        "After the search is done, the results will be saved in the `output` folder."
      ]
    },
    {
      "cell_type": "markdown",
      "metadata": {
        "id": "b6vk1e1wdu0x"
      },
      "source": [
        "## Text Search\n",
        "\n",
        "Run Text to Image search in the database. Results will be stored in the `Week9/session_1/output` folder."
      ]
    },
    {
      "cell_type": "code",
      "execution_count": null,
      "metadata": {
        "id": "zBSCG4otP-QZ"
      },
      "outputs": [],
      "source": [
        "run_vector_search(\n",
        "    database=\"/content/lancedb_myntra\",\n",
        "    table_name=\"fashion\",\n",
        "    schema=Myntra,\n",
        "    search_query=\"White Kurta\",\n",
        "    limit=3,\n",
        "    output_folder=\"output\",\n",
        ")"
      ]
    },
    {
      "cell_type": "markdown",
      "metadata": {
        "id": "hgVFAc_XdxHo"
      },
      "source": [
        "## Image Search\n",
        "\n",
        "Run Image to Image search in the database. Results will be stored in the `Week9/session_1/output` folder."
      ]
    },
    {
      "cell_type": "code",
      "execution_count": null,
      "metadata": {
        "id": "MfmUygJEdyZO"
      },
      "outputs": [],
      "source": [
        "run_vector_search(\n",
        "    database=\"lancedb_myntra\",\n",
        "    table_name=\"fashion\",\n",
        "    schema=Myntra,\n",
        "    search_query=\"/content/input/Images/Images/0.jpg\",\n",
        "    limit=3,\n",
        "    output_folder=\"output\",\n",
        ")"
      ]
    },
    {
      "cell_type": "code",
      "source": [
        "# !rm -rf lancedb_myntra # To delete the DB"
      ],
      "metadata": {
        "id": "6TyMtaS4vKnH"
      },
      "execution_count": null,
      "outputs": []
    }
  ],
  "metadata": {
    "colab": {
      "provenance": []
    },
    "kernelspec": {
      "display_name": "gs",
      "language": "python",
      "name": "python3"
    },
    "language_info": {
      "codemirror_mode": {
        "name": "ipython",
        "version": 3
      },
      "file_extension": ".py",
      "mimetype": "text/x-python",
      "name": "python",
      "nbconvert_exporter": "python",
      "pygments_lexer": "ipython3",
      "version": "3.10.18"
    },
    "widgets": {
      "application/vnd.jupyter.widget-state+json": {
        "7e2588f42dde4bd1a9b60fb1d69d2418": {
          "model_module": "@jupyter-widgets/controls",
          "model_name": "HBoxModel",
          "model_module_version": "1.5.0",
          "state": {
            "_dom_classes": [],
            "_model_module": "@jupyter-widgets/controls",
            "_model_module_version": "1.5.0",
            "_model_name": "HBoxModel",
            "_view_count": null,
            "_view_module": "@jupyter-widgets/controls",
            "_view_module_version": "1.5.0",
            "_view_name": "HBoxView",
            "box_style": "",
            "children": [
              "IPY_MODEL_af30a8440b87493888b8109c99e03ec6",
              "IPY_MODEL_506dfa59c25a4b3e88e024b9e61692a4",
              "IPY_MODEL_3ec150db74c347d2bc9bead0680a5563"
            ],
            "layout": "IPY_MODEL_1573018ec50b46e686ebdf85627600a5"
          }
        },
        "af30a8440b87493888b8109c99e03ec6": {
          "model_module": "@jupyter-widgets/controls",
          "model_name": "HTMLModel",
          "model_module_version": "1.5.0",
          "state": {
            "_dom_classes": [],
            "_model_module": "@jupyter-widgets/controls",
            "_model_module_version": "1.5.0",
            "_model_name": "HTMLModel",
            "_view_count": null,
            "_view_module": "@jupyter-widgets/controls",
            "_view_module_version": "1.5.0",
            "_view_name": "HTMLView",
            "description": "",
            "description_tooltip": null,
            "layout": "IPY_MODEL_367376da6a6d4ca7a59a357bb6392a6b",
            "placeholder": "​",
            "style": "IPY_MODEL_70f91f424e7f428e823cb5c4064ecad5",
            "value": "open_clip_model.safetensors: 100%"
          }
        },
        "506dfa59c25a4b3e88e024b9e61692a4": {
          "model_module": "@jupyter-widgets/controls",
          "model_name": "FloatProgressModel",
          "model_module_version": "1.5.0",
          "state": {
            "_dom_classes": [],
            "_model_module": "@jupyter-widgets/controls",
            "_model_module_version": "1.5.0",
            "_model_name": "FloatProgressModel",
            "_view_count": null,
            "_view_module": "@jupyter-widgets/controls",
            "_view_module_version": "1.5.0",
            "_view_name": "ProgressView",
            "bar_style": "success",
            "description": "",
            "description_tooltip": null,
            "layout": "IPY_MODEL_0accce94550240cf8cc675971ee5b083",
            "max": 605143316,
            "min": 0,
            "orientation": "horizontal",
            "style": "IPY_MODEL_498a831ad19d4f4d9710af4055b34dab",
            "value": 605143316
          }
        },
        "3ec150db74c347d2bc9bead0680a5563": {
          "model_module": "@jupyter-widgets/controls",
          "model_name": "HTMLModel",
          "model_module_version": "1.5.0",
          "state": {
            "_dom_classes": [],
            "_model_module": "@jupyter-widgets/controls",
            "_model_module_version": "1.5.0",
            "_model_name": "HTMLModel",
            "_view_count": null,
            "_view_module": "@jupyter-widgets/controls",
            "_view_module_version": "1.5.0",
            "_view_name": "HTMLView",
            "description": "",
            "description_tooltip": null,
            "layout": "IPY_MODEL_3194dbb074b0438e866e91d66a965062",
            "placeholder": "​",
            "style": "IPY_MODEL_e35abb6a73cd479bbf4aa97944a12efa",
            "value": " 605M/605M [00:06&lt;00:00, 120MB/s]"
          }
        },
        "1573018ec50b46e686ebdf85627600a5": {
          "model_module": "@jupyter-widgets/base",
          "model_name": "LayoutModel",
          "model_module_version": "1.2.0",
          "state": {
            "_model_module": "@jupyter-widgets/base",
            "_model_module_version": "1.2.0",
            "_model_name": "LayoutModel",
            "_view_count": null,
            "_view_module": "@jupyter-widgets/base",
            "_view_module_version": "1.2.0",
            "_view_name": "LayoutView",
            "align_content": null,
            "align_items": null,
            "align_self": null,
            "border": null,
            "bottom": null,
            "display": null,
            "flex": null,
            "flex_flow": null,
            "grid_area": null,
            "grid_auto_columns": null,
            "grid_auto_flow": null,
            "grid_auto_rows": null,
            "grid_column": null,
            "grid_gap": null,
            "grid_row": null,
            "grid_template_areas": null,
            "grid_template_columns": null,
            "grid_template_rows": null,
            "height": null,
            "justify_content": null,
            "justify_items": null,
            "left": null,
            "margin": null,
            "max_height": null,
            "max_width": null,
            "min_height": null,
            "min_width": null,
            "object_fit": null,
            "object_position": null,
            "order": null,
            "overflow": null,
            "overflow_x": null,
            "overflow_y": null,
            "padding": null,
            "right": null,
            "top": null,
            "visibility": null,
            "width": null
          }
        },
        "367376da6a6d4ca7a59a357bb6392a6b": {
          "model_module": "@jupyter-widgets/base",
          "model_name": "LayoutModel",
          "model_module_version": "1.2.0",
          "state": {
            "_model_module": "@jupyter-widgets/base",
            "_model_module_version": "1.2.0",
            "_model_name": "LayoutModel",
            "_view_count": null,
            "_view_module": "@jupyter-widgets/base",
            "_view_module_version": "1.2.0",
            "_view_name": "LayoutView",
            "align_content": null,
            "align_items": null,
            "align_self": null,
            "border": null,
            "bottom": null,
            "display": null,
            "flex": null,
            "flex_flow": null,
            "grid_area": null,
            "grid_auto_columns": null,
            "grid_auto_flow": null,
            "grid_auto_rows": null,
            "grid_column": null,
            "grid_gap": null,
            "grid_row": null,
            "grid_template_areas": null,
            "grid_template_columns": null,
            "grid_template_rows": null,
            "height": null,
            "justify_content": null,
            "justify_items": null,
            "left": null,
            "margin": null,
            "max_height": null,
            "max_width": null,
            "min_height": null,
            "min_width": null,
            "object_fit": null,
            "object_position": null,
            "order": null,
            "overflow": null,
            "overflow_x": null,
            "overflow_y": null,
            "padding": null,
            "right": null,
            "top": null,
            "visibility": null,
            "width": null
          }
        },
        "70f91f424e7f428e823cb5c4064ecad5": {
          "model_module": "@jupyter-widgets/controls",
          "model_name": "DescriptionStyleModel",
          "model_module_version": "1.5.0",
          "state": {
            "_model_module": "@jupyter-widgets/controls",
            "_model_module_version": "1.5.0",
            "_model_name": "DescriptionStyleModel",
            "_view_count": null,
            "_view_module": "@jupyter-widgets/base",
            "_view_module_version": "1.2.0",
            "_view_name": "StyleView",
            "description_width": ""
          }
        },
        "0accce94550240cf8cc675971ee5b083": {
          "model_module": "@jupyter-widgets/base",
          "model_name": "LayoutModel",
          "model_module_version": "1.2.0",
          "state": {
            "_model_module": "@jupyter-widgets/base",
            "_model_module_version": "1.2.0",
            "_model_name": "LayoutModel",
            "_view_count": null,
            "_view_module": "@jupyter-widgets/base",
            "_view_module_version": "1.2.0",
            "_view_name": "LayoutView",
            "align_content": null,
            "align_items": null,
            "align_self": null,
            "border": null,
            "bottom": null,
            "display": null,
            "flex": null,
            "flex_flow": null,
            "grid_area": null,
            "grid_auto_columns": null,
            "grid_auto_flow": null,
            "grid_auto_rows": null,
            "grid_column": null,
            "grid_gap": null,
            "grid_row": null,
            "grid_template_areas": null,
            "grid_template_columns": null,
            "grid_template_rows": null,
            "height": null,
            "justify_content": null,
            "justify_items": null,
            "left": null,
            "margin": null,
            "max_height": null,
            "max_width": null,
            "min_height": null,
            "min_width": null,
            "object_fit": null,
            "object_position": null,
            "order": null,
            "overflow": null,
            "overflow_x": null,
            "overflow_y": null,
            "padding": null,
            "right": null,
            "top": null,
            "visibility": null,
            "width": null
          }
        },
        "498a831ad19d4f4d9710af4055b34dab": {
          "model_module": "@jupyter-widgets/controls",
          "model_name": "ProgressStyleModel",
          "model_module_version": "1.5.0",
          "state": {
            "_model_module": "@jupyter-widgets/controls",
            "_model_module_version": "1.5.0",
            "_model_name": "ProgressStyleModel",
            "_view_count": null,
            "_view_module": "@jupyter-widgets/base",
            "_view_module_version": "1.2.0",
            "_view_name": "StyleView",
            "bar_color": null,
            "description_width": ""
          }
        },
        "3194dbb074b0438e866e91d66a965062": {
          "model_module": "@jupyter-widgets/base",
          "model_name": "LayoutModel",
          "model_module_version": "1.2.0",
          "state": {
            "_model_module": "@jupyter-widgets/base",
            "_model_module_version": "1.2.0",
            "_model_name": "LayoutModel",
            "_view_count": null,
            "_view_module": "@jupyter-widgets/base",
            "_view_module_version": "1.2.0",
            "_view_name": "LayoutView",
            "align_content": null,
            "align_items": null,
            "align_self": null,
            "border": null,
            "bottom": null,
            "display": null,
            "flex": null,
            "flex_flow": null,
            "grid_area": null,
            "grid_auto_columns": null,
            "grid_auto_flow": null,
            "grid_auto_rows": null,
            "grid_column": null,
            "grid_gap": null,
            "grid_row": null,
            "grid_template_areas": null,
            "grid_template_columns": null,
            "grid_template_rows": null,
            "height": null,
            "justify_content": null,
            "justify_items": null,
            "left": null,
            "margin": null,
            "max_height": null,
            "max_width": null,
            "min_height": null,
            "min_width": null,
            "object_fit": null,
            "object_position": null,
            "order": null,
            "overflow": null,
            "overflow_x": null,
            "overflow_y": null,
            "padding": null,
            "right": null,
            "top": null,
            "visibility": null,
            "width": null
          }
        },
        "e35abb6a73cd479bbf4aa97944a12efa": {
          "model_module": "@jupyter-widgets/controls",
          "model_name": "DescriptionStyleModel",
          "model_module_version": "1.5.0",
          "state": {
            "_model_module": "@jupyter-widgets/controls",
            "_model_module_version": "1.5.0",
            "_model_name": "DescriptionStyleModel",
            "_view_count": null,
            "_view_module": "@jupyter-widgets/base",
            "_view_module_version": "1.2.0",
            "_view_name": "StyleView",
            "description_width": ""
          }
        }
      }
    }
  },
  "nbformat": 4,
  "nbformat_minor": 0
}